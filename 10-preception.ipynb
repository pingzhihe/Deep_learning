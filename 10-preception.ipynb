{
 "cells": [
  {
   "cell_type": "code",
   "execution_count": null,
   "metadata": {},
   "outputs": [],
   "source": []
  },
  {
   "cell_type": "markdown",
   "metadata": {},
   "source": [
    "# 感知机(preception)\n",
    "* 感知机是一个二分类模型，是最早的AI模型之一\n",
    "* 它的求解算法等价于使用批量大小为1的梯度下降\n",
    "* 它不能拟合XOR函数，导致了第一次AI寒冬\n",
    "\n",
    "## 多层感知机\n",
    "* 多层感知机使用隐藏层和激活函数来得到非线性曲线\n",
    "* 常用函数是Sigmoid, Tanh, ReLU等\n",
    "* 使用Softmax 来处理多类分类\n",
    "* 超参数为隐藏层数, 和各个隐藏层大小\n"
   ]
  }
 ],
 "metadata": {
  "language_info": {
   "name": "python"
  }
 },
 "nbformat": 4,
 "nbformat_minor": 2
}
